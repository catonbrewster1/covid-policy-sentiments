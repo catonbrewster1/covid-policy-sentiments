{
 "cells": [
  {
   "cell_type": "code",
   "execution_count": 1,
   "id": "2bd91ba2",
   "metadata": {},
   "outputs": [
    {
     "data": {
      "application/vnd.jupyter.widget-view+json": {
       "model_id": "f96e077f45cd461b91d7faebb3d2dd89",
       "version_major": 2,
       "version_minor": 0
      },
      "text/plain": [
       "VBox()"
      ]
     },
     "metadata": {},
     "output_type": "display_data"
    },
    {
     "name": "stdout",
     "output_type": "stream",
     "text": [
      "Starting Spark application\n"
     ]
    },
    {
     "data": {
      "text/html": [
       "<table>\n",
       "<tr><th>ID</th><th>YARN Application ID</th><th>Kind</th><th>State</th><th>Spark UI</th><th>Driver log</th><th>Current session?</th></tr><tr><td>2</td><td>application_1639110915514_0003</td><td>pyspark</td><td>idle</td><td><a target=\"_blank\" href=\"http://ip-172-31-42-198.ec2.internal:20888/proxy/application_1639110915514_0003/\" class=\"emr-proxy-link\" emr-resource=\"j-OWQ0DO108KFB\n",
       "\" application-id=\"application_1639110915514_0003\">Link</a></td><td><a target=\"_blank\" href=\"http://ip-172-31-42-198.ec2.internal:8042/node/containerlogs/container_1639110915514_0003_01_000001/livy\" >Link</a></td><td>✔</td></tr></table>"
      ],
      "text/plain": [
       "<IPython.core.display.HTML object>"
      ]
     },
     "metadata": {},
     "output_type": "display_data"
    },
    {
     "data": {
      "application/vnd.jupyter.widget-view+json": {
       "model_id": "",
       "version_major": 2,
       "version_minor": 0
      },
      "text/plain": [
       "FloatProgress(value=0.0, bar_style='info', description='Progress:', layout=Layout(height='25px', width='50%'),…"
      ]
     },
     "metadata": {},
     "output_type": "display_data"
    },
    {
     "name": "stdout",
     "output_type": "stream",
     "text": [
      "SparkSession available as 'spark'.\n"
     ]
    },
    {
     "data": {
      "application/vnd.jupyter.widget-view+json": {
       "model_id": "",
       "version_major": 2,
       "version_minor": 0
      },
      "text/plain": [
       "FloatProgress(value=0.0, bar_style='info', description='Progress:', layout=Layout(height='25px', width='50%'),…"
      ]
     },
     "metadata": {},
     "output_type": "display_data"
    },
    {
     "name": "stdout",
     "output_type": "stream",
     "text": [
      "Collecting boto3\n",
      "  Using cached https://files.pythonhosted.org/packages/d7/24/4b70d13b553f7ca14efaa652f5b61e8a1fc63d5a98a0b4eed74eca5c9a16/boto3-1.20.23-py3-none-any.whl\n",
      "Collecting s3transfer<0.6.0,>=0.5.0 (from boto3)\n",
      "  Using cached https://files.pythonhosted.org/packages/ab/84/fc3717a7b7f0f6bb08af593127171f08e3e0087c197922da09c01bfe7c3a/s3transfer-0.5.0-py3-none-any.whl\n",
      "Requirement already satisfied: jmespath<1.0.0,>=0.7.1 in /usr/local/lib/python3.7/site-packages (from boto3)\n",
      "Collecting botocore<1.24.0,>=1.23.23 (from boto3)\n",
      "  Using cached https://files.pythonhosted.org/packages/06/75/72b9236e2ff5ff7d24d1a04dae90cc5974f1cb830ddfe61ba8a18df4664d/botocore-1.23.23-py3-none-any.whl\n",
      "Collecting urllib3<1.27,>=1.25.4 (from botocore<1.24.0,>=1.23.23->boto3)\n",
      "  Using cached https://files.pythonhosted.org/packages/af/f4/524415c0744552cce7d8bf3669af78e8a069514405ea4fcbd0cc44733744/urllib3-1.26.7-py2.py3-none-any.whl\n",
      "Collecting python-dateutil<3.0.0,>=2.1 (from botocore<1.24.0,>=1.23.23->boto3)\n",
      "  Using cached https://files.pythonhosted.org/packages/36/7a/87837f39d0296e723bb9b62bbb257d0355c7f6128853c78955f57342a56d/python_dateutil-2.8.2-py2.py3-none-any.whl\n",
      "Requirement already satisfied: six>=1.5 in /usr/local/lib/python3.7/site-packages (from python-dateutil<3.0.0,>=2.1->botocore<1.24.0,>=1.23.23->boto3)\n",
      "Installing collected packages: urllib3, python-dateutil, botocore, s3transfer, boto3\n",
      "Successfully installed boto3-1.20.23 botocore-1.23.23 python-dateutil-2.8.2 s3transfer-0.5.0 urllib3-1.26.7\n",
      "\n",
      "You are using pip version 9.0.1, however version 21.3.1 is available.\n",
      "You should consider upgrading via the 'pip install --upgrade pip' command."
     ]
    }
   ],
   "source": [
    "sc.install_pypi_package(\"boto3\")"
   ]
  },
  {
   "cell_type": "code",
   "execution_count": 2,
   "id": "f6554917",
   "metadata": {},
   "outputs": [
    {
     "data": {
      "application/vnd.jupyter.widget-view+json": {
       "model_id": "630cb4e4f41d41f0a1cc872d5547f7eb",
       "version_major": 2,
       "version_minor": 0
      },
      "text/plain": [
       "VBox()"
      ]
     },
     "metadata": {},
     "output_type": "display_data"
    },
    {
     "data": {
      "application/vnd.jupyter.widget-view+json": {
       "model_id": "",
       "version_major": 2,
       "version_minor": 0
      },
      "text/plain": [
       "FloatProgress(value=0.0, bar_style='info', description='Progress:', layout=Layout(height='25px', width='50%'),…"
      ]
     },
     "metadata": {},
     "output_type": "display_data"
    }
   ],
   "source": [
    "import boto3"
   ]
  },
  {
   "cell_type": "code",
   "execution_count": 3,
   "id": "e71f611a",
   "metadata": {},
   "outputs": [
    {
     "data": {
      "application/vnd.jupyter.widget-view+json": {
       "model_id": "19cf9ad0c3264d64bf648a1c1828af23",
       "version_major": 2,
       "version_minor": 0
      },
      "text/plain": [
       "VBox()"
      ]
     },
     "metadata": {},
     "output_type": "display_data"
    },
    {
     "data": {
      "application/vnd.jupyter.widget-view+json": {
       "model_id": "",
       "version_major": 2,
       "version_minor": 0
      },
      "text/plain": [
       "FloatProgress(value=0.0, bar_style='info', description='Progress:', layout=Layout(height='25px', width='50%'),…"
      ]
     },
     "metadata": {},
     "output_type": "display_data"
    }
   ],
   "source": [
    "s3 = boto3.resource('s3')\n",
    "bucket = 'lsc-sentiments-final-project'\n",
    "bucket_resource = s3.Bucket(bucket)"
   ]
  },
  {
   "cell_type": "code",
   "execution_count": 23,
   "id": "d3ec2297",
   "metadata": {},
   "outputs": [
    {
     "data": {
      "application/vnd.jupyter.widget-view+json": {
       "model_id": "da370035e88b46d498304b518ad4f9fd",
       "version_major": 2,
       "version_minor": 0
      },
      "text/plain": [
       "VBox()"
      ]
     },
     "metadata": {},
     "output_type": "display_data"
    },
    {
     "data": {
      "application/vnd.jupyter.widget-view+json": {
       "model_id": "",
       "version_major": 2,
       "version_minor": 0
      },
      "text/plain": [
       "FloatProgress(value=0.0, bar_style='info', description='Progress:', layout=Layout(height='25px', width='50%'),…"
      ]
     },
     "metadata": {},
     "output_type": "display_data"
    }
   ],
   "source": [
    "data = spark.read.json('s3://lsc-sentiments-final-project')"
   ]
  },
  {
   "cell_type": "code",
   "execution_count": 24,
   "id": "32dbc74c",
   "metadata": {},
   "outputs": [
    {
     "data": {
      "application/vnd.jupyter.widget-view+json": {
       "model_id": "05be6b6e3ae944bdb640571f188d641d",
       "version_major": 2,
       "version_minor": 0
      },
      "text/plain": [
       "VBox()"
      ]
     },
     "metadata": {},
     "output_type": "display_data"
    },
    {
     "data": {
      "application/vnd.jupyter.widget-view+json": {
       "model_id": "",
       "version_major": 2,
       "version_minor": 0
      },
      "text/plain": [
       "FloatProgress(value=0.0, bar_style='info', description='Progress:', layout=Layout(height='25px', width='50%'),…"
      ]
     },
     "metadata": {},
     "output_type": "display_data"
    },
    {
     "name": "stdout",
     "output_type": "stream",
     "text": [
      "Total Columns: 12\n",
      "Total Rows: 26\n",
      "root\n",
      " |-- anger: string (nullable = true)\n",
      " |-- date: string (nullable = true)\n",
      " |-- disgust: string (nullable = true)\n",
      " |-- fear: string (nullable = true)\n",
      " |-- id: string (nullable = true)\n",
      " |-- joy: string (nullable = true)\n",
      " |-- love: long (nullable = true)\n",
      " |-- others: string (nullable = true)\n",
      " |-- sadness: string (nullable = true)\n",
      " |-- sentiment: struct (nullable = true)\n",
      " |    |-- results: string (nullable = true)\n",
      " |-- surprise: string (nullable = true)\n",
      " |-- tweet: string (nullable = true)"
     ]
    }
   ],
   "source": [
    "print('Total Columns: %d' % len(data.dtypes))\n",
    "print('Total Rows: %d' % data.count())\n",
    "data.printSchema()"
   ]
  },
  {
   "cell_type": "code",
   "execution_count": 25,
   "id": "bd682266",
   "metadata": {},
   "outputs": [
    {
     "data": {
      "application/vnd.jupyter.widget-view+json": {
       "model_id": "111fef94855141d5adfda3e27e97d158",
       "version_major": 2,
       "version_minor": 0
      },
      "text/plain": [
       "VBox()"
      ]
     },
     "metadata": {},
     "output_type": "display_data"
    },
    {
     "data": {
      "application/vnd.jupyter.widget-view+json": {
       "model_id": "",
       "version_major": 2,
       "version_minor": 0
      },
      "text/plain": [
       "FloatProgress(value=0.0, bar_style='info', description='Progress:', layout=Layout(height='25px', width='50%'),…"
      ]
     },
     "metadata": {},
     "output_type": "display_data"
    },
    {
     "name": "stdout",
     "output_type": "stream",
     "text": [
      "+-------------------+------+-------+------+------+------+-------+--------+\n",
      "|               date| anger|disgust|  fear|   joy|others|sadness|surprise|\n",
      "+-------------------+------+-------+------+------+------+-------+--------+\n",
      "|2021-12-09 22:57:00|0.6234| 0.1185|0.0236|0.0066|0.0964| 0.1169|  0.0147|\n",
      "|2021-12-09 22:57:01|0.0279| 0.0061|0.0039|0.5122|0.3216| 0.0961|  0.0322|\n",
      "|2021-12-09 22:56:49|0.2702| 0.0484|0.0139|0.0306|0.5822| 0.0263|  0.0283|\n",
      "|2021-12-09 22:56:59|0.2994| 0.0784|0.0356|0.0076|0.2465| 0.3131|  0.0192|\n",
      "|2021-12-09 22:56:49|0.2132| 0.0279|0.0062|0.0514|0.3416| 0.3492|  0.0105|\n",
      "|2021-12-09 22:56:51|0.0429|  0.013|0.0103|0.0102|0.8808| 0.0264|  0.0164|\n",
      "|2021-12-09 22:56:59|0.1378| 0.0581|  0.12|0.0663|0.3155| 0.0729|  0.2293|\n",
      "|2021-12-09 22:56:57|0.4075| 0.0878|0.0245|0.0092|0.3334| 0.1222|  0.0154|\n",
      "|2021-12-09 22:56:48|0.0368| 0.0102| 0.017|0.0117|0.8629| 0.0216|  0.0398|\n",
      "|2021-12-09 22:56:46|0.5093| 0.0609|0.0131| 0.032|0.3379| 0.0118|  0.0351|\n",
      "|2021-12-09 22:56:47|0.6207| 0.0984|0.0135|0.0103|0.2175| 0.0278|  0.0117|\n",
      "|2021-12-09 22:56:47|0.0417| 0.0198|0.0551|0.0437|0.5982| 0.1592|  0.0824|\n",
      "|2021-12-09 22:56:44|0.2499| 0.0476|0.0174|0.0146|0.5442| 0.1072|  0.0191|\n",
      "|2021-12-09 22:56:40|0.6369| 0.1135|0.0137|0.0111|0.1963| 0.0121|  0.0164|\n",
      "|2021-12-09 22:56:54|0.0875| 0.0279|0.0272|0.0112|0.4658| 0.3517|  0.0287|\n",
      "|2021-12-09 22:56:41|0.0414| 0.0203|0.0303|0.0447|0.7438| 0.0669|  0.0525|\n",
      "|2021-12-09 22:56:45|0.0147| 0.0058| 0.013|0.0096| 0.911| 0.0195|  0.0264|\n",
      "|2021-12-09 22:56:48|0.0173| 0.0083|0.0223|0.0221|0.7952| 0.0946|  0.0402|\n",
      "|2021-12-09 22:56:58|0.0722| 0.0286|0.0475|0.0249|0.6341|  0.129|  0.0637|\n",
      "|2021-12-09 22:56:42|0.0389| 0.0143|0.0173|0.0259|0.7945| 0.0738|  0.0353|\n",
      "+-------------------+------+-------+------+------+------+-------+--------+\n",
      "only showing top 20 rows"
     ]
    }
   ],
   "source": [
    "data[['date', 'anger', 'disgust', 'fear', 'joy', 'others', 'sadness', 'surprise']].show()"
   ]
  },
  {
   "cell_type": "code",
   "execution_count": 35,
   "id": "d748f220",
   "metadata": {},
   "outputs": [
    {
     "data": {
      "application/vnd.jupyter.widget-view+json": {
       "model_id": "166c9745bebf4f76b9a240308dbc7a53",
       "version_major": 2,
       "version_minor": 0
      },
      "text/plain": [
       "VBox()"
      ]
     },
     "metadata": {},
     "output_type": "display_data"
    },
    {
     "data": {
      "application/vnd.jupyter.widget-view+json": {
       "model_id": "",
       "version_major": 2,
       "version_minor": 0
      },
      "text/plain": [
       "FloatProgress(value=0.0, bar_style='info', description='Progress:', layout=Layout(height='25px', width='50%'),…"
      ]
     },
     "metadata": {},
     "output_type": "display_data"
    }
   ],
   "source": [
    "from pyspark.sql.functions import split\n",
    "data = data.withColumn('date_day', split(data.date, \" \")[0])\n",
    "data = data.withColumn('anger_n', data.anger.cast(\"float\"))\n",
    "data = data.withColumn('disgust_n', (data.disgust).cast(\"float\"))\n",
    "data = data.withColumn('fear_n', (data.fear).cast(\"float\"))\n",
    "data = data.withColumn('joy_n', (data.joy).cast(\"float\"))\n",
    "data = data.withColumn('others_n', (data.others).cast(\"float\"))\n",
    "data = data.withColumn('sadness_n', (data.sadness).cast(\"float\"))\n",
    "data = data.withColumn('surprise_n', (data.surprise).cast(\"float\"))"
   ]
  },
  {
   "cell_type": "code",
   "execution_count": 43,
   "id": "6ded1ee4",
   "metadata": {},
   "outputs": [
    {
     "data": {
      "application/vnd.jupyter.widget-view+json": {
       "model_id": "8e401b9325a341eda1a343d5f2a7406f",
       "version_major": 2,
       "version_minor": 0
      },
      "text/plain": [
       "VBox()"
      ]
     },
     "metadata": {},
     "output_type": "display_data"
    },
    {
     "data": {
      "application/vnd.jupyter.widget-view+json": {
       "model_id": "",
       "version_major": 2,
       "version_minor": 0
      },
      "text/plain": [
       "FloatProgress(value=0.0, bar_style='info', description='Progress:', layout=Layout(height='25px', width='50%'),…"
      ]
     },
     "metadata": {},
     "output_type": "display_data"
    }
   ],
   "source": [
    "data_to_graph = data[['date_day', 'anger_n', 'disgust_n', 'fear_n', 'joy_n', 'others_n', 'sadness_n', 'surprise_n']].groupBy('date_day').avg('anger_n', 'disgust_n', 'fear_n', 'joy_n', 'others_n', 'sadness_n', 'surprise_n')"
   ]
  },
  {
   "cell_type": "code",
   "execution_count": null,
   "id": "f08edf8d",
   "metadata": {},
   "outputs": [],
   "source": []
  }
 ],
 "metadata": {
  "kernelspec": {
   "display_name": "PySpark",
   "language": "",
   "name": "pysparkkernel"
  },
  "language_info": {
   "codemirror_mode": {
    "name": "python",
    "version": 3
   },
   "mimetype": "text/x-python",
   "name": "pyspark",
   "pygments_lexer": "python3"
  }
 },
 "nbformat": 4,
 "nbformat_minor": 5
}
