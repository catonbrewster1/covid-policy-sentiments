{
 "cells": [
  {
   "cell_type": "code",
   "execution_count": 1,
   "id": "d0fe4973",
   "metadata": {},
   "outputs": [
    {
     "data": {
      "application/vnd.jupyter.widget-view+json": {
       "model_id": "476898ede7814914ae37b05836895e33",
       "version_major": 2,
       "version_minor": 0
      },
      "text/plain": [
       "VBox()"
      ]
     },
     "metadata": {},
     "output_type": "display_data"
    },
    {
     "name": "stdout",
     "output_type": "stream",
     "text": [
      "Starting Spark application\n"
     ]
    },
    {
     "data": {
      "text/html": [
       "<table>\n",
       "<tr><th>ID</th><th>YARN Application ID</th><th>Kind</th><th>State</th><th>Spark UI</th><th>Driver log</th><th>Current session?</th></tr><tr><td>6</td><td>application_1639142235197_0007</td><td>pyspark</td><td>idle</td><td><a target=\"_blank\" href=\"http://ip-172-31-41-11.ec2.internal:20888/proxy/application_1639142235197_0007/\" class=\"emr-proxy-link\" emr-resource=\"j-3EQEUJM0629PD\n",
       "\" application-id=\"application_1639142235197_0007\">Link</a></td><td><a target=\"_blank\" href=\"http://ip-172-31-41-11.ec2.internal:8042/node/containerlogs/container_1639142235197_0007_01_000001/livy\" >Link</a></td><td>✔</td></tr></table>"
      ],
      "text/plain": [
       "<IPython.core.display.HTML object>"
      ]
     },
     "metadata": {},
     "output_type": "display_data"
    },
    {
     "data": {
      "application/vnd.jupyter.widget-view+json": {
       "model_id": "",
       "version_major": 2,
       "version_minor": 0
      },
      "text/plain": [
       "FloatProgress(value=0.0, bar_style='info', description='Progress:', layout=Layout(height='25px', width='50%'),…"
      ]
     },
     "metadata": {},
     "output_type": "display_data"
    },
    {
     "name": "stdout",
     "output_type": "stream",
     "text": [
      "SparkSession available as 'spark'.\n"
     ]
    },
    {
     "data": {
      "application/vnd.jupyter.widget-view+json": {
       "model_id": "",
       "version_major": 2,
       "version_minor": 0
      },
      "text/plain": [
       "FloatProgress(value=0.0, bar_style='info', description='Progress:', layout=Layout(height='25px', width='50%'),…"
      ]
     },
     "metadata": {},
     "output_type": "display_data"
    },
    {
     "name": "stdout",
     "output_type": "stream",
     "text": [
      "Collecting boto3\n",
      "  Using cached https://files.pythonhosted.org/packages/d7/24/4b70d13b553f7ca14efaa652f5b61e8a1fc63d5a98a0b4eed74eca5c9a16/boto3-1.20.23-py3-none-any.whl\n",
      "Collecting s3transfer<0.6.0,>=0.5.0 (from boto3)\n",
      "  Using cached https://files.pythonhosted.org/packages/ab/84/fc3717a7b7f0f6bb08af593127171f08e3e0087c197922da09c01bfe7c3a/s3transfer-0.5.0-py3-none-any.whl\n",
      "Requirement already satisfied: jmespath<1.0.0,>=0.7.1 in /usr/local/lib/python3.7/site-packages (from boto3)\n",
      "Collecting botocore<1.24.0,>=1.23.23 (from boto3)\n",
      "  Using cached https://files.pythonhosted.org/packages/06/75/72b9236e2ff5ff7d24d1a04dae90cc5974f1cb830ddfe61ba8a18df4664d/botocore-1.23.23-py3-none-any.whl\n",
      "Collecting urllib3<1.27,>=1.25.4 (from botocore<1.24.0,>=1.23.23->boto3)\n",
      "  Using cached https://files.pythonhosted.org/packages/af/f4/524415c0744552cce7d8bf3669af78e8a069514405ea4fcbd0cc44733744/urllib3-1.26.7-py2.py3-none-any.whl\n",
      "Collecting python-dateutil<3.0.0,>=2.1 (from botocore<1.24.0,>=1.23.23->boto3)\n",
      "  Using cached https://files.pythonhosted.org/packages/36/7a/87837f39d0296e723bb9b62bbb257d0355c7f6128853c78955f57342a56d/python_dateutil-2.8.2-py2.py3-none-any.whl\n",
      "Requirement already satisfied: six>=1.5 in /usr/local/lib/python3.7/site-packages (from python-dateutil<3.0.0,>=2.1->botocore<1.24.0,>=1.23.23->boto3)\n",
      "Installing collected packages: urllib3, python-dateutil, botocore, s3transfer, boto3\n",
      "Successfully installed boto3-1.20.23 botocore-1.23.23 python-dateutil-2.8.2 s3transfer-0.5.0 urllib3-1.26.7\n",
      "\n",
      "Collecting matplotlib==3.2.1\n",
      "  Downloading https://files.pythonhosted.org/packages/b2/c2/71fcf957710f3ba1f09088b35776a799ba7dd95f7c2b195ec800933b276b/matplotlib-3.2.1-cp37-cp37m-manylinux1_x86_64.whl (12.4MB)\n",
      "Requirement already satisfied: python-dateutil>=2.1 in /mnt/tmp/1639160506120-0/lib/python3.7/site-packages (from matplotlib==3.2.1)\n",
      "Collecting pyparsing!=2.0.4,!=2.1.2,!=2.1.6,>=2.0.1 (from matplotlib==3.2.1)\n",
      "  Downloading https://files.pythonhosted.org/packages/a0/34/895006117f6fce0b4de045c87e154ee4a20c68ec0a4c9a36d900888fb6bc/pyparsing-3.0.6-py3-none-any.whl (97kB)\n",
      "Collecting cycler>=0.10 (from matplotlib==3.2.1)\n",
      "  Downloading https://files.pythonhosted.org/packages/5c/f9/695d6bedebd747e5eb0fe8fad57b72fdf25411273a39791cde838d5a8f51/cycler-0.11.0-py3-none-any.whl\n",
      "Requirement already satisfied: numpy>=1.11 in /usr/local/lib64/python3.7/site-packages (from matplotlib==3.2.1)\n",
      "Collecting kiwisolver>=1.0.1 (from matplotlib==3.2.1)\n",
      "  Downloading https://files.pythonhosted.org/packages/09/6b/6e567cb2e86d4e5939a9233f8734e26021b6a9c1bc4b1edccba236a84cc2/kiwisolver-1.3.2-cp37-cp37m-manylinux_2_5_x86_64.manylinux1_x86_64.whl (1.1MB)\n",
      "Requirement already satisfied: six>=1.5 in /usr/local/lib/python3.7/site-packages (from python-dateutil>=2.1->matplotlib==3.2.1)\n",
      "Installing collected packages: pyparsing, cycler, kiwisolver, matplotlib\n",
      "Successfully installed cycler-0.11.0 kiwisolver-1.3.2 matplotlib-3.2.1 pyparsing-3.0.6\n",
      "\n",
      "Collecting pandas==0.25.1\n",
      "  Using cached https://files.pythonhosted.org/packages/7e/ab/ea76361f9d3e732e114adcd801d2820d5319c23d0ac5482fa3b412db217e/pandas-0.25.1-cp37-cp37m-manylinux1_x86_64.whl\n",
      "Requirement already satisfied: pytz>=2017.2 in /usr/local/lib/python3.7/site-packages (from pandas==0.25.1)\n",
      "Requirement already satisfied: numpy>=1.13.3 in /usr/local/lib64/python3.7/site-packages (from pandas==0.25.1)\n",
      "Requirement already satisfied: python-dateutil>=2.6.1 in /mnt/tmp/1639160506120-0/lib/python3.7/site-packages (from pandas==0.25.1)\n",
      "Requirement already satisfied: six>=1.5 in /usr/local/lib/python3.7/site-packages (from python-dateutil>=2.6.1->pandas==0.25.1)\n",
      "Installing collected packages: pandas\n",
      "Successfully installed pandas-0.25.1\n",
      "\n",
      "You are using pip version 9.0.1, however version 21.3.1 is available.\n",
      "You should consider upgrading via the 'pip install --upgrade pip' command.\n",
      "\n",
      "You are using pip version 9.0.1, however version 21.3.1 is available.\n",
      "You should consider upgrading via the 'pip install --upgrade pip' command.\n",
      "\n",
      "You are using pip version 9.0.1, however version 21.3.1 is available.\n",
      "You should consider upgrading via the 'pip install --upgrade pip' command."
     ]
    }
   ],
   "source": [
    "sc.install_pypi_package(\"boto3\")\n",
    "sc.install_pypi_package(\"matplotlib==3.2.1\")\n",
    "sc.install_pypi_package(\"pandas==0.25.1\") #Install pandas version 0.25.1 "
   ]
  },
  {
   "cell_type": "code",
   "execution_count": 2,
   "id": "31507517",
   "metadata": {},
   "outputs": [
    {
     "data": {
      "application/vnd.jupyter.widget-view+json": {
       "model_id": "74dc8f1ff1fa4e8ba1075a79c82cdbf1",
       "version_major": 2,
       "version_minor": 0
      },
      "text/plain": [
       "VBox()"
      ]
     },
     "metadata": {},
     "output_type": "display_data"
    },
    {
     "data": {
      "application/vnd.jupyter.widget-view+json": {
       "model_id": "",
       "version_major": 2,
       "version_minor": 0
      },
      "text/plain": [
       "FloatProgress(value=0.0, bar_style='info', description='Progress:', layout=Layout(height='25px', width='50%'),…"
      ]
     },
     "metadata": {},
     "output_type": "display_data"
    }
   ],
   "source": [
    "import boto3\n",
    "import matplotlib\n",
    "from pyspark.sql.functions import *"
   ]
  },
  {
   "cell_type": "code",
   "execution_count": 3,
   "id": "5f2408ef",
   "metadata": {},
   "outputs": [
    {
     "data": {
      "application/vnd.jupyter.widget-view+json": {
       "model_id": "9e390cba642a49d0b4e754c05eac693a",
       "version_major": 2,
       "version_minor": 0
      },
      "text/plain": [
       "VBox()"
      ]
     },
     "metadata": {},
     "output_type": "display_data"
    },
    {
     "data": {
      "application/vnd.jupyter.widget-view+json": {
       "model_id": "",
       "version_major": 2,
       "version_minor": 0
      },
      "text/plain": [
       "FloatProgress(value=0.0, bar_style='info', description='Progress:', layout=Layout(height='25px', width='50%'),…"
      ]
     },
     "metadata": {},
     "output_type": "display_data"
    }
   ],
   "source": [
    "s3 = boto3.resource('s3')\n",
    "bucket = 'lsc-sentiments'\n",
    "bucket_resource = s3.Bucket(bucket)"
   ]
  },
  {
   "cell_type": "code",
   "execution_count": 4,
   "id": "0085889b",
   "metadata": {},
   "outputs": [
    {
     "data": {
      "application/vnd.jupyter.widget-view+json": {
       "model_id": "b4d071a664c64231ba7f49f0bd7af11f",
       "version_major": 2,
       "version_minor": 0
      },
      "text/plain": [
       "VBox()"
      ]
     },
     "metadata": {},
     "output_type": "display_data"
    },
    {
     "data": {
      "application/vnd.jupyter.widget-view+json": {
       "model_id": "",
       "version_major": 2,
       "version_minor": 0
      },
      "text/plain": [
       "FloatProgress(value=0.0, bar_style='info', description='Progress:', layout=Layout(height='25px', width='50%'),…"
      ]
     },
     "metadata": {},
     "output_type": "display_data"
    }
   ],
   "source": [
    "data = spark.read.json('s3://lsc-sentiments')"
   ]
  },
  {
   "cell_type": "code",
   "execution_count": 5,
   "id": "b1235b6a",
   "metadata": {},
   "outputs": [
    {
     "data": {
      "application/vnd.jupyter.widget-view+json": {
       "model_id": "848f34e209d34a7db18bca12b5ff9a28",
       "version_major": 2,
       "version_minor": 0
      },
      "text/plain": [
       "VBox()"
      ]
     },
     "metadata": {},
     "output_type": "display_data"
    },
    {
     "data": {
      "application/vnd.jupyter.widget-view+json": {
       "model_id": "",
       "version_major": 2,
       "version_minor": 0
      },
      "text/plain": [
       "FloatProgress(value=0.0, bar_style='info', description='Progress:', layout=Layout(height='25px', width='50%'),…"
      ]
     },
     "metadata": {},
     "output_type": "display_data"
    },
    {
     "name": "stdout",
     "output_type": "stream",
     "text": [
      "Total Columns: 12\n",
      "Total Rows: 267\n",
      "root\n",
      " |-- anger: string (nullable = true)\n",
      " |-- date: string (nullable = true)\n",
      " |-- disgust: string (nullable = true)\n",
      " |-- fear: string (nullable = true)\n",
      " |-- geo: string (nullable = true)\n",
      " |-- id: string (nullable = true)\n",
      " |-- joy: string (nullable = true)\n",
      " |-- others: string (nullable = true)\n",
      " |-- sadness: string (nullable = true)\n",
      " |-- sentiment: struct (nullable = true)\n",
      " |    |-- results: string (nullable = true)\n",
      " |-- surprise: string (nullable = true)\n",
      " |-- tweet: string (nullable = true)"
     ]
    }
   ],
   "source": [
    "print('Total Columns: %d' % len(data.dtypes))\n",
    "print('Total Rows: %d' % data.count())\n",
    "data.printSchema()"
   ]
  },
  {
   "cell_type": "code",
   "execution_count": 6,
   "id": "6ff8840a",
   "metadata": {},
   "outputs": [
    {
     "data": {
      "application/vnd.jupyter.widget-view+json": {
       "model_id": "e5cf5aabf726444a95416fffe44adfab",
       "version_major": 2,
       "version_minor": 0
      },
      "text/plain": [
       "VBox()"
      ]
     },
     "metadata": {},
     "output_type": "display_data"
    },
    {
     "data": {
      "application/vnd.jupyter.widget-view+json": {
       "model_id": "",
       "version_major": 2,
       "version_minor": 0
      },
      "text/plain": [
       "FloatProgress(value=0.0, bar_style='info', description='Progress:', layout=Layout(height='25px', width='50%'),…"
      ]
     },
     "metadata": {},
     "output_type": "display_data"
    },
    {
     "name": "stdout",
     "output_type": "stream",
     "text": [
      "+-------------------+------+-------+------+------+------+-------+--------+--------------------+\n",
      "|               date| anger|disgust|  fear|   joy|others|sadness|surprise|                 geo|\n",
      "+-------------------+------+-------+------+------+------+-------+--------+--------------------+\n",
      "|2021-12-05 17:30:43|0.0712| 0.0143|0.0154|0.0778| 0.615| 0.1417|  0.0646|20.6597,-103.3496...|\n",
      "|2021-12-02 17:23:22|0.0149| 0.0045|0.0068|0.0086|0.9267| 0.0262|  0.0124|20.6597,-103.3496...|\n",
      "|2021-12-09 17:30:14|0.0296| 0.0081|0.0071|0.0204|0.8784| 0.0395|   0.017|20.6597,-103.3496...|\n",
      "|2021-12-10 11:00:03|0.0553| 0.0128|0.0084|0.0357|0.8365| 0.0289|  0.0224|19.4326,-99.1332,...|\n",
      "|2021-11-29 09:34:09|0.3735| 0.0605|0.0164| 0.014|0.2134|  0.307|  0.0152|20.6597,-103.3496...|\n",
      "|2021-12-08 17:19:48|0.0079| 0.0034|0.0055|0.0175|0.9363| 0.0137|  0.0158|20.6597,-103.3496...|\n",
      "|2021-11-29 13:31:08|0.0316| 0.0127|0.0244|0.0103|0.8376|  0.047|  0.0365|20.6597,-103.3496...|\n",
      "|2021-12-01 16:58:36|0.0182| 0.0084|0.0181|0.0093|0.8153| 0.1039|  0.0267|20.6597,-103.3496...|\n",
      "|2021-12-09 15:19:10|0.0292| 0.0087| 0.008|0.0252|0.8888| 0.0194|  0.0207|20.6597,-103.3496...|\n",
      "|2021-12-10 10:35:31|0.3041| 0.0624|0.0259|0.0084|0.4733|  0.102|  0.0239|20.6597,-103.3496...|\n",
      "|2021-12-05 14:18:04|0.0044| 0.0019|0.0016|0.8798|0.0858| 0.0167|  0.0098|20.6597,-103.3496...|\n",
      "|2021-12-08 17:19:31|0.0079| 0.0034|0.0055|0.0175|0.9363| 0.0137|  0.0158|20.6597,-103.3496...|\n",
      "|2021-12-07 17:43:04|0.0166| 0.0065|0.0096|0.0215|0.9077| 0.0156|  0.0225|20.6597,-103.3496...|\n",
      "|2021-12-08 17:37:00|0.0475| 0.0106|0.0104|0.0247|0.8375| 0.0435|  0.0257|20.6597,-103.3496...|\n",
      "|2021-12-05 16:33:06|0.0419| 0.0081|0.0061|0.0359|0.8493| 0.0412|  0.0174|20.6597,-103.3496...|\n",
      "|2021-12-02 15:58:16|0.3303| 0.0464|0.0143| 0.016|0.5198| 0.0455|  0.0275|20.6597,-103.3496...|\n",
      "|2021-12-06 17:36:09|0.0698| 0.0164|0.0147|0.0147|0.6621| 0.1982|  0.0241|19.4326,-99.1332,...|\n",
      "|2021-12-05 17:20:13|0.0493| 0.0106|0.0071|0.0213|0.8552| 0.0367|  0.0197|19.4326,-99.1332,...|\n",
      "|2021-12-10 10:36:08|0.0256| 0.0094|0.0122|0.0083|0.8891| 0.0337|  0.0216|20.6597,-103.3496...|\n",
      "|2021-12-10 09:48:48|0.0592| 0.0149|0.0132|0.0087| 0.833| 0.0473|  0.0238|20.6597,-103.3496...|\n",
      "+-------------------+------+-------+------+------+------+-------+--------+--------------------+\n",
      "only showing top 20 rows"
     ]
    }
   ],
   "source": [
    "data[['date', 'anger', 'disgust', 'fear', 'joy', 'others', 'sadness', 'surprise', 'geo']].show()"
   ]
  },
  {
   "cell_type": "code",
   "execution_count": 80,
   "id": "80d9ffdd",
   "metadata": {},
   "outputs": [
    {
     "data": {
      "application/vnd.jupyter.widget-view+json": {
       "model_id": "9c75530dbc394ccdad34fc5806fcdff3",
       "version_major": 2,
       "version_minor": 0
      },
      "text/plain": [
       "VBox()"
      ]
     },
     "metadata": {},
     "output_type": "display_data"
    },
    {
     "data": {
      "application/vnd.jupyter.widget-view+json": {
       "model_id": "",
       "version_major": 2,
       "version_minor": 0
      },
      "text/plain": [
       "FloatProgress(value=0.0, bar_style='info', description='Progress:', layout=Layout(height='25px', width='50%'),…"
      ]
     },
     "metadata": {},
     "output_type": "display_data"
    }
   ],
   "source": [
    "from pyspark.sql.functions import split\n",
    "data = data.withColumn('date_day', split(data.date, \" \")[0])\n",
    "data = data.withColumn('anger_n', round(data.anger.cast(\"float\"), 2))\n",
    "data = data.withColumn('disgust_n', round(data.disgust.cast(\"float\"), 2))\n",
    "data = data.withColumn('fear_n', round(data.fear.cast(\"float\"), 2))\n",
    "data = data.withColumn('joy_n', round(data.joy.cast(\"float\"), 2))\n",
    "data = data.withColumn('others_n', round(data.others.cast(\"float\"), 2))\n",
    "data = data.withColumn('sadness_n', round(data.sadness.cast(\"float\"), 2))\n",
    "data = data.withColumn('surprise_n', round(data.surprise.cast(\"float\"), 2))\n",
    "data = data.withColumn(\"city\", when(col(\"geo\").contains(\"19.4326\"), \"Mexico City\").otherwise(\"Guadalajara\"))"
   ]
  },
  {
   "cell_type": "code",
   "execution_count": 81,
   "id": "7bd95d6e",
   "metadata": {},
   "outputs": [
    {
     "data": {
      "application/vnd.jupyter.widget-view+json": {
       "model_id": "74bbcd4aafe74f0bb5f3041c52d22d72",
       "version_major": 2,
       "version_minor": 0
      },
      "text/plain": [
       "VBox()"
      ]
     },
     "metadata": {},
     "output_type": "display_data"
    },
    {
     "data": {
      "application/vnd.jupyter.widget-view+json": {
       "model_id": "",
       "version_major": 2,
       "version_minor": 0
      },
      "text/plain": [
       "FloatProgress(value=0.0, bar_style='info', description='Progress:', layout=Layout(height='25px', width='50%'),…"
      ]
     },
     "metadata": {},
     "output_type": "display_data"
    }
   ],
   "source": [
    "data_to_graph = data[['date_day', \n",
    "                          'city',\n",
    "                          'anger_n', \n",
    "                          'disgust_n', \n",
    "                          'fear_n', \n",
    "                          'joy_n', \n",
    "                          'others_n', \n",
    "                          'sadness_n', \n",
    "                          'surprise_n']] \\\n",
    "                    .groupBy(['date_day', 'city']) \\\n",
    "                    .agg(round(mean(\"anger_n\"),3).alias(\"anger\"),\n",
    "                         round(mean(\"disgust_n\"),3).alias(\"disgust\"),\n",
    "                         round(mean(\"fear_n\"),3).alias(\"fear\"),\n",
    "                         round(mean(\"joy_n\"),3).alias(\"joy\"),\n",
    "                         round(mean(\"others_n\"),3).alias(\"other\"),\n",
    "                         round(mean(\"sadness_n\"),3).alias(\"sadness\"),\n",
    "                         round(mean(\"surprise_n\"),3).alias(\"surprise\"))\n"
   ]
  },
  {
   "cell_type": "code",
   "execution_count": 82,
   "id": "2957c2a9",
   "metadata": {},
   "outputs": [
    {
     "data": {
      "application/vnd.jupyter.widget-view+json": {
       "model_id": "655de9c8b25241f9b42f670d1153c453",
       "version_major": 2,
       "version_minor": 0
      },
      "text/plain": [
       "VBox()"
      ]
     },
     "metadata": {},
     "output_type": "display_data"
    },
    {
     "data": {
      "application/vnd.jupyter.widget-view+json": {
       "model_id": "",
       "version_major": 2,
       "version_minor": 0
      },
      "text/plain": [
       "FloatProgress(value=0.0, bar_style='info', description='Progress:', layout=Layout(height='25px', width='50%'),…"
      ]
     },
     "metadata": {},
     "output_type": "display_data"
    },
    {
     "name": "stdout",
     "output_type": "stream",
     "text": [
      "+----------+-----------+-----+-------+-----+-----+-----+-------+--------+\n",
      "|  date_day|       city|anger|disgust| fear|  joy|other|sadness|surprise|\n",
      "+----------+-----------+-----+-------+-----+-----+-----+-------+--------+\n",
      "|2021-12-10|Mexico City|0.066|  0.015|0.012|0.039|0.726|  0.119|   0.024|\n",
      "|2021-12-07|Guadalajara|0.063|  0.012|0.012|0.044|0.791|  0.055|   0.025|\n",
      "|2021-12-09|Mexico City|0.056|  0.016|0.022|0.015|0.736|  0.118|   0.038|\n",
      "|2021-12-04|Guadalajara|0.114|  0.021|0.014|0.059|0.703|  0.062|   0.029|\n",
      "|2021-11-29|Guadalajara| 0.15|  0.033|0.024|0.027|0.538|  0.173|   0.052|\n",
      "|2021-12-01|Guadalajara|0.109|  0.014|0.009|0.118|0.585|  0.141|   0.022|\n",
      "|2021-12-08|Mexico City|0.035|  0.012|0.021|0.021|0.803|  0.078|   0.034|\n",
      "|2021-11-30|Guadalajara| 0.14|  0.034|0.032| 0.05|0.452|   0.23|   0.058|\n",
      "|2021-12-09|Guadalajara|0.096|  0.016|0.015|0.024|0.687|   0.14|   0.024|\n",
      "|2021-12-06|Mexico City|0.117|  0.021|0.011|0.027|0.734|   0.07|   0.022|\n",
      "|2021-12-05|Mexico City|0.041|  0.012|0.016| 0.04|  0.8|  0.062|   0.028|\n",
      "|2021-12-07|Mexico City| 0.05|  0.016|0.017|0.042| 0.77|  0.074|   0.031|\n",
      "|2021-12-05|Guadalajara|0.102|  0.022|0.022|0.126|0.607|  0.071|   0.048|\n",
      "|2021-12-02|Guadalajara|0.066|  0.011|0.011|0.021| 0.81|  0.054|   0.026|\n",
      "|2021-12-06|Guadalajara|0.122|  0.022|0.019|0.032|0.712|  0.054|    0.04|\n",
      "|2021-12-08|Guadalajara|0.099|  0.018|0.015|0.026|0.733|  0.081|   0.031|\n",
      "|2021-12-03|Guadalajara|0.076|  0.013|0.011|0.024|0.792|   0.06|   0.023|\n",
      "|2021-12-10|Guadalajara|0.068|  0.014|0.012|0.101|0.691|  0.081|    0.03|\n",
      "+----------+-----------+-----+-------+-----+-----+-----+-------+--------+"
     ]
    }
   ],
   "source": [
    "data_to_graph[['date_day', \n",
    "               'city', \n",
    "               'anger', \n",
    "               'disgust', \n",
    "               'fear', \n",
    "               'joy', \n",
    "               'other', \n",
    "               'sadness', \n",
    "               'surprise']].show()"
   ]
  },
  {
   "cell_type": "code",
   "execution_count": 83,
   "id": "88948f7e",
   "metadata": {},
   "outputs": [
    {
     "data": {
      "application/vnd.jupyter.widget-view+json": {
       "model_id": "a49b45a108974a518ea1123e228d7643",
       "version_major": 2,
       "version_minor": 0
      },
      "text/plain": [
       "VBox()"
      ]
     },
     "metadata": {},
     "output_type": "display_data"
    },
    {
     "data": {
      "application/vnd.jupyter.widget-view+json": {
       "model_id": "",
       "version_major": 2,
       "version_minor": 0
      },
      "text/plain": [
       "FloatProgress(value=0.0, bar_style='info', description='Progress:', layout=Layout(height='25px', width='50%'),…"
      ]
     },
     "metadata": {},
     "output_type": "display_data"
    }
   ],
   "source": [
    "#conver to pandas\n",
    "df = data_to_graph.toPandas()\n",
    "df_cdmx = df[df[\"city\"]==\"Mexico City\"]\n",
    "df_gdl = df[df[\"city\"]==\"Guadalajara\"]"
   ]
  },
  {
   "cell_type": "code",
   "execution_count": 98,
   "id": "9c0f817e",
   "metadata": {},
   "outputs": [
    {
     "data": {
      "application/vnd.jupyter.widget-view+json": {
       "model_id": "0a190be7651542f5b70c8ba77e3bd133",
       "version_major": 2,
       "version_minor": 0
      },
      "text/plain": [
       "VBox()"
      ]
     },
     "metadata": {},
     "output_type": "display_data"
    },
    {
     "data": {
      "application/vnd.jupyter.widget-view+json": {
       "model_id": "",
       "version_major": 2,
       "version_minor": 0
      },
      "text/plain": [
       "FloatProgress(value=0.0, bar_style='info', description='Progress:', layout=Layout(height='25px', width='50%'),…"
      ]
     },
     "metadata": {},
     "output_type": "display_data"
    },
    {
     "data": {
      "image/png": "[encoded data removed]",
      "text/plain": [
       "<IPython.core.display.Image object>"
      ]
     },
     "metadata": {},
     "output_type": "display_data"
    }
   ],
   "source": [
    "import matplotlib.font_manager as font_manager\n",
    "\n",
    "plt.close()\n",
    "\n",
    "df_cdmx.sort_values(by='date_day', inplace=True)\n",
    "\n",
    "font = {'family': 'DejaVu Sans',\n",
    "        'color':  'black',\n",
    "        'weight': 'normal',\n",
    "        'size': 10,\n",
    "        }\n",
    "\n",
    "colors = {\"anger\": \"red\", \n",
    "          \"disgust\": \"olive\", \n",
    "          \"fear\": \"purple\", \n",
    "          \"joy\": \"yellow\", \n",
    "          \"sadness\": \"cadetblue\", \n",
    "          \"surprise\": \"deeppink\"}\n",
    "\n",
    "#exclude \"other\"\n",
    "for s in [\"anger\", \"disgust\", \"fear\", \"joy\", \"sadness\", \"surprise\"]:\n",
    "    plt.plot('date_day', s, data=df_cdmx, color=colors[s],  linewidth=1)\n",
    "    \n",
    "    \n",
    "# show legend\n",
    "plt.legend(bbox_to_anchor=(1.05, 1), loc='upper left', borderaxespad=0, prop={'size': 8})\n",
    "\n",
    "plt.title('Daily Average Tweet Sentiments', fontsize=12)\n",
    "plt.xlabel('Date', fontdict=font)\n",
    "plt.ylabel('Average Tweet Sentiment', fontdict=font)\n",
    "\n",
    "# format the x and y ticks\n",
    "plt.xticks(rotation=20, horizontalalignment='right', fontsize=7)\n",
    "plt.yticks(fontsize=7)\n",
    "plt.subplots_adjust(bottom=0.2)\n",
    "plt.subplots_adjust(right=.74)\n",
    "\n",
    "# show graph\n",
    "plt.show()\n",
    "%matplot plt\n"
   ]
  },
  {
   "cell_type": "code",
   "execution_count": 99,
   "id": "d08f12e2",
   "metadata": {},
   "outputs": [
    {
     "data": {
      "application/vnd.jupyter.widget-view+json": {
       "model_id": "1b10d8cd410a464bad18541631df7b62",
       "version_major": 2,
       "version_minor": 0
      },
      "text/plain": [
       "VBox()"
      ]
     },
     "metadata": {},
     "output_type": "display_data"
    },
    {
     "data": {
      "application/vnd.jupyter.widget-view+json": {
       "model_id": "",
       "version_major": 2,
       "version_minor": 0
      },
      "text/plain": [
       "FloatProgress(value=0.0, bar_style='info', description='Progress:', layout=Layout(height='25px', width='50%'),…"
      ]
     },
     "metadata": {},
     "output_type": "display_data"
    },
    {
     "data": {
      "image/png": "[encoded data removed]",
      "text/plain": [
       "<IPython.core.display.Image object>"
      ]
     },
     "metadata": {},
     "output_type": "display_data"
    }
   ],
   "source": [
    "import matplotlib.font_manager as font_manager\n",
    "\n",
    "plt.close()\n",
    "\n",
    "df_gdl.sort_values(by='date_day', inplace=True)\n",
    "\n",
    "font = {'family': 'DejaVu Sans',\n",
    "        'color':  'black',\n",
    "        'weight': 'normal',\n",
    "        'size': 10,\n",
    "        }\n",
    "\n",
    "colors = {\"anger\": \"red\", \n",
    "          \"disgust\": \"olive\", \n",
    "          \"fear\": \"purple\", \n",
    "          \"joy\": \"yellow\", \n",
    "          \"sadness\": \"cadetblue\", \n",
    "          \"surprise\": \"deeppink\"}\n",
    "\n",
    "#exclude \"other\"\n",
    "for s in [\"anger\", \"disgust\", \"fear\", \"joy\", \"sadness\", \"surprise\"]:\n",
    "    plt.plot('date_day', s, data=df_gdl, color=colors[s],  linewidth=1)\n",
    "    \n",
    "    \n",
    "# show legend\n",
    "plt.legend(bbox_to_anchor=(1.05, 1), loc='upper left', borderaxespad=0, prop={'size': 8})\n",
    "\n",
    "plt.title('Daily Average Tweet Sentiments', fontsize=12)\n",
    "plt.xlabel('Date', fontdict=font)\n",
    "plt.ylabel('Average Tweet Sentiment', fontdict=font)\n",
    "\n",
    "# format the x and y ticks\n",
    "plt.xticks(rotation=20, horizontalalignment='right', fontsize=7)\n",
    "plt.yticks(fontsize=7)\n",
    "plt.subplots_adjust(bottom=0.2)\n",
    "plt.subplots_adjust(right=.74)\n",
    "\n",
    "# show graph\n",
    "plt.show()\n",
    "%matplot plt\n"
   ]
  },
  {
   "cell_type": "code",
   "execution_count": null,
   "id": "8df64534",
   "metadata": {},
   "outputs": [],
   "source": []
  }
 ],
 "metadata": {
  "kernelspec": {
   "display_name": "PySpark",
   "language": "",
   "name": "pysparkkernel"
  },
  "language_info": {
   "codemirror_mode": {
    "name": "python",
    "version": 3
   },
   "mimetype": "text/x-python",
   "name": "pyspark",
   "pygments_lexer": "python3"
  }
 },
 "nbformat": 4,
 "nbformat_minor": 5
}
